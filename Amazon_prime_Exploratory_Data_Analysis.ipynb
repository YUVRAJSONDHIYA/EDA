{
  "nbformat": 4,
  "nbformat_minor": 0,
  "metadata": {
    "colab": {
      "private_outputs": true,
      "provenance": [],
      "collapsed_sections": [
        "vncDsAP0Gaoa",
        "FJNUwmbgGyua",
        "w6K7xa23Elo4",
        "yQaldy8SH6Dl",
        "PH-0ReGfmX4f",
        "mDgbUHAGgjLW",
        "O_i_v8NEhb9l",
        "HhfV-JJviCcP",
        "Y3lxredqlCYt",
        "3RnN4peoiCZX",
        "x71ZqKXriCWQ",
        "7hBIi_osiCS2",
        "JlHwYmJAmNHm",
        "35m5QtbWiB9F",
        "PoPl-ycgm1ru",
        "H0kj-8xxnORC",
        "nA9Y7ga8ng1Z",
        "PBTbrJXOngz2",
        "u3PMJOP6ngxN",
        "dauF4eBmngu3",
        "bKJF3rekwFvQ",
        "MSa1f5Uengrz",
        "GF8Ens_Soomf",
        "0wOQAZs5pc--",
        "K5QZ13OEpz2H",
        "lQ7QKXXCp7Bj",
        "448CDAPjqfQr",
        "KSlN3yHqYklG",
        "t6dVpIINYklI",
        "ijmpgYnKYklI",
        "-JiQyfWJYklI",
        "EM7whBJCYoAo",
        "fge-S5ZAYoAp",
        "85gYPyotYoAp",
        "RoGjAbkUYoAp",
        "4Of9eVA-YrdM",
        "iky9q4vBYrdO",
        "F6T5p64dYrdO",
        "y-Ehk30pYrdP",
        "bamQiAODYuh1",
        "QHF8YVU7Yuh3",
        "GwzvFGzlYuh3",
        "qYpmQ266Yuh3",
        "OH-pJp9IphqM",
        "bbFf2-_FphqN",
        "_ouA3fa0phqN",
        "Seke61FWphqN",
        "PIIx-8_IphqN",
        "t27r6nlMphqO",
        "r2jJGEOYphqO",
        "b0JNsNcRphqO",
        "BZR9WyysphqO",
        "jj7wYXLtphqO",
        "eZrbJ2SmphqO",
        "rFu4xreNphqO",
        "YJ55k-q6phqO",
        "gCFgpxoyphqP",
        "OVtJsKN_phqQ",
        "lssrdh5qphqQ",
        "U2RJ9gkRphqQ",
        "1M8mcRywphqQ",
        "tgIPom80phqQ",
        "JMzcOPDDphqR",
        "x-EpHcCOp1ci",
        "X_VqEhTip1ck",
        "8zGJKyg5p1ck",
        "PVzmfK_Ep1ck",
        "n3dbpmDWp1ck",
        "ylSl6qgtp1ck",
        "ZWILFDl5p1ck",
        "M7G43BXep1ck",
        "Ag9LCva-p1cl",
        "E6MkPsBcp1cl",
        "2cELzS2fp1cl",
        "3MPXvC8up1cl",
        "NC_X3p0fY2L0",
        "UV0SzAkaZNRQ",
        "YPEH6qLeZNRQ",
        "q29F0dvdveiT",
        "EXh0U9oCveiU",
        "22aHeOlLveiV",
        "JcMwzZxoAimU",
        "8G2x9gOozGDZ",
        "gCX9965dhzqZ",
        "gIfDvo9L0UH2"
      ],
      "cell_execution_strategy": "setup"
    },
    "kernelspec": {
      "name": "python3",
      "display_name": "Python 3"
    },
    "language_info": {
      "name": "python"
    }
  },
  "cells": [
    {
      "cell_type": "markdown",
      "source": [
        "# **Project Name**    - Amazon_prime_Exploratory_Data_Analysis\n",
        "\n",
        "![Python Logo](https://logos-marcas.com/wp-content/uploads/2021/03/Amazon-Prime-Video-Emblema.jpg)\n",
        "\n",
        "\n"
      ],
      "metadata": {
        "id": "vncDsAP0Gaoa"
      }
    },
    {
      "cell_type": "markdown",
      "source": [
        "##### **Project Type**    - Amazon_prime_Exploratory_Data_Analysis\n",
        "##### **Contribution**    - Individual\n"
      ],
      "metadata": {
        "id": "beRrZCGUAJYm"
      }
    },
    {
      "cell_type": "markdown",
      "source": [
        "# **Project Summary -**"
      ],
      "metadata": {
        "id": "FJNUwmbgGyua"
      }
    },
    {
      "cell_type": "markdown",
      "source": [
        "Amazon Prime Video is one of the leading global streaming platforms that offers a wide range of movies, TV shows, and original content across various genres. With millions of subscribers worldwide, Prime Video faces immense competition from platforms like Netflix, Disney+, and Hulu. To attract and retain audiences, content quality plays a crucial role.\n",
        "\n",
        "This project is based on a dataset containing 124,347 records across 19 attributes. The dataset provides rich information such as title, genre, release year, runtime, IMDb and TMDb ratings, votes, cast details, and production countries. Initial analysis reveals a striking insight — only 5–10% of the content achieves high ratings on IMDb and TMDb, suggesting that there are hidden patterns behind the success of certain shows and movies.\n",
        "\n",
        "The goal of this project is to uncover these patterns and generate actionable insights that can help production houses, streaming platforms, and content creators optimize their strategies, save time, and invest in creating content that resonates strongly with audiences.\n",
        "\n",
        "Approach Used:-\n",
        "\n",
        "The approach I have used in this project is defined in the given format:\n",
        "\n",
        "1) Loading our Data: We loaded the dataset in Google Colab and read the CSV file containing 124,347 records and 19 columns.\n",
        "\n",
        "2) Data Cleaning and Processing: Removed duplicate entries. Treated missing values by either dropping them or filling with appropriate assumptions. Standardized data types (for example, converting runtime into consistent format, ensuring IMDb scores were numeric). Cleaned categorical columns like genres and production countries for uniform analysis.\n",
        "\n",
        "3) Analysis and Visualization: We explored key variables such as genres, release year, runtime, IMDb score, TMDb score, production countries, and age certifications to identify trends and patterns. Analyzed which genres and production countries perform the best. Compared the success of TV shows vs. movies. Studied the relationship between runtime and ratings. Examined IMDb and TMDb scores to highlight high-performing content. Answered hypothetical questions to uncover the factors behind why only 5–10% of the content performs well.\n",
        "\n",
        "4) Future Scope of Further Analysis: The dataset provides opportunities for deeper insights. For example: Identifying trends in popular genres over decades. Analyzing the effect of release years and seasons on ratings. Studying the impact of production countries on content success. Exploring more micro-trends such as which age certifications lead to higher audience approval.\n",
        "\n",
        "* Types of Graphs Used for Data Visualization: Count Plot, Bar Plot, Scatter Plot, Heatmap, Box Plot\n",
        "\n",
        "* Python Libraries Used for Graphs: Matplotlib, Seaborn, NumPy, Pandas\n"
      ],
      "metadata": {
        "id": "F6v_1wHtG2nS"
      }
    },
    {
      "cell_type": "markdown",
      "source": [
        "# **GitHub Link -**"
      ],
      "metadata": {
        "id": "w6K7xa23Elo4"
      }
    },
    {
      "cell_type": "markdown",
      "source": [
        "https://github.com/YUVRAJSONDHIYA"
      ],
      "metadata": {
        "id": "h1o69JH3Eqqn"
      }
    },
    {
      "cell_type": "markdown",
      "source": [
        "# **Problem Statement**\n"
      ],
      "metadata": {
        "id": "yQaldy8SH6Dl"
      }
    },
    {
      "cell_type": "markdown",
      "source": [
        "This dataset was created to analyze all shows available on Amazon Prime Video, allowing us to extract valuable insights such as:\n",
        "\n",
        "Content Diversity: What genres and categories dominate the platform?\n",
        "Regional Availability: How does content distribution vary across different regions?\n",
        "\n",
        "Trends Over Time: How has Amazon Prime’s content library evolved?\n",
        "IMDb Ratings & Popularity: What are the highest-rated or most popular shows on the platform?\n",
        "\n",
        "By analyzing this dataset, businesses, content creators, and data analysts can uncover key trends that influence subscription growth, user engagement, and content investment strategies in the streaming industry."
      ],
      "metadata": {
        "id": "DpeJGUA3kjGy"
      }
    },
    {
      "cell_type": "markdown",
      "source": [
        "#### **Define Your Business Objective?**"
      ],
      "metadata": {
        "id": "PH-0ReGfmX4f"
      }
    },
    {
      "cell_type": "markdown",
      "source": [
        "\n",
        "Identify High-Performing Content: Analyze IMDb and TMDb ratings to determine the characteristics of shows and movies that perform exceptionally well on the platform.\n",
        "\n",
        "Understand Genre and Category Trends: Discover which genres and categories attract the most viewership and critical acclaim to guide future content investments.\n",
        "\n",
        "Evaluate Regional Preferences: Assess the distribution of content across different production countries to identify opportunities for regional targeting and expansion.\n",
        "\n",
        "Examine Content Evolution: Study how Amazon Prime’s content library has evolved over time in terms of genres, runtime, and quality to predict future trends.\n",
        "\n",
        "Optimize Content Strategy: Provide insights that help production houses and Amazon Prime focus on producing content with the highest potential for user engagement and subscription growth.\n",
        "\n",
        "Enhance Audience Satisfaction: Understand the impact of factors such as runtime, age certification, and release year on viewer ratings to improve content relevance and audience satisfaction."
      ],
      "metadata": {
        "id": "PhDvGCAqmjP1"
      }
    },
    {
      "cell_type": "markdown",
      "source": [
        "# **General Guidelines** : -  "
      ],
      "metadata": {
        "id": "mDgbUHAGgjLW"
      }
    },
    {
      "cell_type": "markdown",
      "source": [
        "1.   Well-structured, formatted, and commented code is required.\n",
        "2.   Exception Handling, Production Grade Code & Deployment Ready Code will be a plus. Those students will be awarded some additional credits.\n",
        "     \n",
        "     The additional credits will have advantages over other students during Star Student selection.\n",
        "       \n",
        "             [ Note: - Deployment Ready Code is defined as, the whole .ipynb notebook should be executable in one go\n",
        "                       without a single error logged. ]\n",
        "\n",
        "3.   Each and every logic should have proper comments.\n",
        "4. You may add as many number of charts you want. Make Sure for each and every chart the following format should be answered.\n",
        "        \n",
        "\n",
        "```\n",
        "# Chart visualization code\n",
        "```\n",
        "            \n",
        "\n",
        "*   Why did you pick the specific chart?\n",
        "*   What is/are the insight(s) found from the chart?\n",
        "* Will the gained insights help creating a positive business impact?\n",
        "Are there any insights that lead to negative growth? Justify with specific reason.\n",
        "\n",
        "5. You have to create at least 20 logical & meaningful charts having important insights.\n",
        "\n",
        "\n",
        "[ Hints : - Do the Vizualization in  a structured way while following \"UBM\" Rule.\n",
        "\n",
        "U - Univariate Analysis,\n",
        "\n",
        "B - Bivariate Analysis (Numerical - Categorical, Numerical - Numerical, Categorical - Categorical)\n",
        "\n",
        "M - Multivariate Analysis\n",
        " ]\n",
        "\n",
        "\n",
        "\n"
      ],
      "metadata": {
        "id": "ZrxVaUj-hHfC"
      }
    },
    {
      "cell_type": "markdown",
      "source": [
        "# ***Let's Begin !***"
      ],
      "metadata": {
        "id": "O_i_v8NEhb9l"
      }
    },
    {
      "cell_type": "markdown",
      "source": [
        "## ***1. Know Your Data***"
      ],
      "metadata": {
        "id": "HhfV-JJviCcP"
      }
    },
    {
      "cell_type": "markdown",
      "source": [
        "### Import Libraries"
      ],
      "metadata": {
        "id": "Y3lxredqlCYt"
      }
    },
    {
      "cell_type": "code",
      "source": [
        "# Import Libraries\n",
        "import numpy as np\n",
        "import pandas as pd\n",
        "import matplotlib.pyplot as plt\n",
        "import seaborn as sns\n",
        "import warnings\n",
        "warnings.filterwarnings('ignore')"
      ],
      "metadata": {
        "id": "M8Vqi-pPk-HR"
      },
      "execution_count": null,
      "outputs": []
    },
    {
      "cell_type": "markdown",
      "source": [
        "### Dataset Loading"
      ],
      "metadata": {
        "id": "3RnN4peoiCZX"
      }
    },
    {
      "cell_type": "code",
      "source": [
        "# Load Dataset\n",
        "\n",
        "# Load the 'credits' dataset from the CSV file\n",
        "credits = pd.read_csv(\"/content/credits.csv\")\n",
        "\n",
        "# Load the 'titles' dataset from the  CSV file\n",
        "titles = pd.read_csv(\"/content/titles.csv\")\n",
        "\n",
        "# Merge the two datasets on the common column 'id'\n",
        "# Perform an inner join to keep only the rows where 'id' exists in both DataFrames\n",
        "data = pd.merge(credits,titles,on='id',how='inner')\n"
      ],
      "metadata": {
        "id": "4CkvbW_SlZ_R"
      },
      "execution_count": null,
      "outputs": []
    },
    {
      "cell_type": "markdown",
      "source": [
        "### Dataset First View"
      ],
      "metadata": {
        "id": "x71ZqKXriCWQ"
      }
    },
    {
      "cell_type": "code",
      "source": [
        "# Dataset First Look\n",
        "# Display the first 5 rows of the merged dataset\n",
        "data.head()"
      ],
      "metadata": {
        "id": "LWNFOSvLl09H"
      },
      "execution_count": null,
      "outputs": []
    },
    {
      "cell_type": "markdown",
      "source": [
        "### Dataset Rows & Columns count"
      ],
      "metadata": {
        "id": "7hBIi_osiCS2"
      }
    },
    {
      "cell_type": "code",
      "source": [
        "# Dataset Rows & Columns count\n",
        "data.shape"
      ],
      "metadata": {
        "id": "Kllu7SJgmLij"
      },
      "execution_count": null,
      "outputs": []
    },
    {
      "cell_type": "markdown",
      "source": [
        "### Dataset Information"
      ],
      "metadata": {
        "id": "JlHwYmJAmNHm"
      }
    },
    {
      "cell_type": "code",
      "source": [
        "# Dataset Info\n",
        "data.info()"
      ],
      "metadata": {
        "id": "e9hRXRi6meOf"
      },
      "execution_count": null,
      "outputs": []
    },
    {
      "cell_type": "markdown",
      "source": [
        "#### Duplicate Values"
      ],
      "metadata": {
        "id": "35m5QtbWiB9F"
      }
    },
    {
      "cell_type": "code",
      "source": [
        "# Dataset Duplicate Value Count\n",
        "data.duplicated().sum()"
      ],
      "metadata": {
        "id": "1sLdpKYkmox0"
      },
      "execution_count": null,
      "outputs": []
    },
    {
      "cell_type": "markdown",
      "source": [
        "#### Missing Values/Null Values"
      ],
      "metadata": {
        "id": "PoPl-ycgm1ru"
      }
    },
    {
      "cell_type": "code",
      "source": [
        "# Missing Values/Null Values Count\n",
        "data.isnull().sum()"
      ],
      "metadata": {
        "id": "GgHWkxvamxVg"
      },
      "execution_count": null,
      "outputs": []
    },
    {
      "cell_type": "code",
      "source": [
        "# Visualizing the missing values\n",
        "plt.figure(figsize=(12, 6))\n",
        "sns.heatmap(data.isnull(),\n",
        "            cmap='rocket',  # better color scheme\n",
        "            cbar=False,\n",
        "            yticklabels=False)  # hides row numbers for cleaner view\n",
        "plt.title('Heatmap of Missing Values', fontsize=15)\n",
        "plt.xlabel('Columns')\n",
        "plt.tight_layout()\n",
        "plt.show()"
      ],
      "metadata": {
        "id": "3q5wnI3om9sJ"
      },
      "execution_count": null,
      "outputs": []
    },
    {
      "cell_type": "markdown",
      "source": [
        "### What did you know about your dataset?"
      ],
      "metadata": {
        "id": "H0kj-8xxnORC"
      }
    },
    {
      "cell_type": "markdown",
      "source": [
        "This dataset contains detailed information about Amazon Prime TV Shows and Movies, comprising 124,347 records across 19 attributes. Key columns such as imdb_score, tmdb_score, imdb_votes, tmdb_popularity, name (actor/crew), and title provide valuable insights into the relationship between content characteristics and their popularity or audience ratings. These attributes enable us to analyze patterns in viewer engagement, evaluate the impact of cast and crew on content performance, and explore trends across genres, countries, and age certifications. This forms a strong foundation for extracting meaningful insights and making data-driven decisions."
      ],
      "metadata": {
        "id": "gfoNAAC-nUe_"
      }
    },
    {
      "cell_type": "markdown",
      "source": [
        "## ***2. Understanding Your Variables***"
      ],
      "metadata": {
        "id": "nA9Y7ga8ng1Z"
      }
    },
    {
      "cell_type": "code",
      "source": [
        "# Dataset Columns\n",
        "list(data.columns)"
      ],
      "metadata": {
        "id": "j7xfkqrt5Ag5"
      },
      "execution_count": null,
      "outputs": []
    },
    {
      "cell_type": "code",
      "source": [
        "# Dataset Describe\n",
        "data.describe(include='all')"
      ],
      "metadata": {
        "id": "DnOaZdaE5Q5t",
        "collapsed": true
      },
      "execution_count": null,
      "outputs": []
    },
    {
      "cell_type": "markdown",
      "source": [
        "### Variables Description"
      ],
      "metadata": {
        "id": "PBTbrJXOngz2"
      }
    },
    {
      "cell_type": "markdown",
      "source": [
        "* Person_id : Total Person ID\n",
        "\n",
        "* id : Total ID\n",
        "\n",
        "* name : Total name of Actors\n",
        "\n",
        "* Chareacter : Name of actors plays as a character in the content\n",
        "\n",
        "* role : Which role is being played\n",
        "\n",
        "* title : Name of the content\n",
        "\n",
        "* type : Type of content (Movie or Show)     \n",
        "\n",
        "* description : Represents the category of movies and shows\n",
        "\n",
        "* release_year : In which year did the content have been released\n",
        "\n",
        "* age_certification : Age rating of content\n",
        "\n",
        "* runtime : Duration of movies/shows\n",
        "\n",
        "* genres : Which genres have been used in content\n",
        "\n",
        "* production_countries : Countries where the content was produced\n",
        "\n",
        "* seasons : Number of seasons (only applicable for TV Shows)  \n",
        "\n",
        "* imdb_id : Unique identifier for the content on IMDb  \n",
        "\n",
        "* imdb_score : IMDb rating score for the content (0 to 10 scale)\n",
        "\n",
        "* imdb_votes : Total number of votes on IMDb\n",
        "\n",
        "* tmdb_popularity : Popularity score from TMDb\n",
        "\n",
        "* tmdb_score : TMDb rating score (0 to 10 scale)\n"
      ],
      "metadata": {
        "id": "aJV4KIxSnxay"
      }
    },
    {
      "cell_type": "markdown",
      "source": [
        "### Check Unique Values for each variable."
      ],
      "metadata": {
        "id": "u3PMJOP6ngxN"
      }
    },
    {
      "cell_type": "code",
      "source": [
        "# Check Unique Values for each variable.\n",
        "# Loop through each column in the DataFrame and print the number of unique values for that column\n",
        "for i in list(data.columns):\n",
        "  print(\"No. of unique values in \",i,\"is\",data[i].nunique(),\".\")"
      ],
      "metadata": {
        "id": "zms12Yq5n-jE"
      },
      "execution_count": null,
      "outputs": []
    },
    {
      "cell_type": "markdown",
      "source": [
        "## 3. ***Data Wrangling***"
      ],
      "metadata": {
        "id": "dauF4eBmngu3"
      }
    },
    {
      "cell_type": "markdown",
      "source": [
        "### Data Wrangling Code"
      ],
      "metadata": {
        "id": "bKJF3rekwFvQ"
      }
    },
    {
      "cell_type": "code",
      "source": [
        "# Write your code to make your dataset analysis ready.\n",
        "\n",
        "# Creating a copy of the current dataset and assigning to df\n",
        "df = data.copy()"
      ],
      "metadata": {
        "id": "wk-9a2fpoLcV"
      },
      "execution_count": null,
      "outputs": []
    },
    {
      "cell_type": "code",
      "source": [
        "# Analysing the null values\n",
        "df.isnull().sum()"
      ],
      "metadata": {
        "id": "5Rikkh3dpX-B"
      },
      "execution_count": null,
      "outputs": []
    },
    {
      "cell_type": "code",
      "source": [
        "# Analysing the null values in percentage\n",
        "(df.isnull().sum()/len(df))*100"
      ],
      "metadata": {
        "id": "9LZ37rN6rcYq"
      },
      "execution_count": null,
      "outputs": []
    },
    {
      "cell_type": "markdown",
      "source": [
        "## Flling the missing values"
      ],
      "metadata": {
        "id": "z5C8rSAVsSYb"
      }
    },
    {
      "cell_type": "code",
      "source": [
        "# Dropping 'age_certification' and 'seasons' columns due to high percentage of missing values.\n",
        "# (above 50%), which may lead to unreliable analysis and cannot be imputed meaningfully.\n",
        "\n",
        "df.drop([\"age_certification\",\"seasons\"],axis=1,inplace=True)"
      ],
      "metadata": {
        "id": "MQBn06iTsRSH"
      },
      "execution_count": null,
      "outputs": []
    },
    {
      "cell_type": "code",
      "source": [
        "# Replace missing values in the 'character' column with the most frequent value (mode)\n",
        "character_mode = df['character'].mode()[0]\n",
        "\n",
        "df.fillna({\"character\": character_mode}, inplace=True)"
      ],
      "metadata": {
        "id": "yl00nwsYS4IZ"
      },
      "execution_count": null,
      "outputs": []
    },
    {
      "cell_type": "code",
      "source": [
        "# Replace missing values in the 'description' column with the most frequent value (mode)\n",
        "description_mode = df[\"description\"].mode()[0]\n",
        "\n",
        "df.fillna({\"description\": description_mode}, inplace=True)"
      ],
      "metadata": {
        "id": "-AD9x8w9Ugv6"
      },
      "execution_count": null,
      "outputs": []
    },
    {
      "cell_type": "code",
      "source": [
        "# replace missing values in the 'imdb_id' column with the most frequent value (mode)\n",
        "imdb_id_mode = df['imdb_id'].mode()[0]\n",
        "\n",
        "df.fillna({'imdb_id':imdb_id_mode},inplace=True)"
      ],
      "metadata": {
        "id": "kfzNJH43U1mA"
      },
      "execution_count": null,
      "outputs": []
    },
    {
      "cell_type": "code",
      "source": [
        "# Check the skewness of 'imdb_score' to decide an appropriate imputation method\n",
        "skewness = df[\"imdb_score\"].skew()  # Negative skew indicates a left-skewed distribution\n",
        "\n",
        "# Fill missing values in 'imdb_score' with the median\n",
        "imdb_score_median = df[\"imdb_score\"].median()\n",
        "df.fillna({\"imdb_score\": imdb_score_median}, inplace=True)"
      ],
      "metadata": {
        "id": "U8vNubCGWtrl"
      },
      "execution_count": null,
      "outputs": []
    },
    {
      "cell_type": "code",
      "source": [
        "# Check the skewness of 'imdb_votes' to determine the best imputation method\n",
        "skewness = df[\"imdb_votes\"].skew()  # Positive skew indicates a right-skewed distribution\n",
        "\n",
        "# Fill missing values in 'imdb_votes' with the median\n",
        "imdb_votes_median = df[\"imdb_votes\"].median()\n",
        "df.fillna({\"imdb_votes\": imdb_votes_median}, inplace=True)"
      ],
      "metadata": {
        "id": "fsOAywTvYo7a"
      },
      "execution_count": null,
      "outputs": []
    },
    {
      "cell_type": "code",
      "source": [
        "# Check the skewness of 'tmdb_popularity' to determine the best imputation method\n",
        "skewness = df['tmdb_popularity'].skew()\n",
        "\n",
        "# fill missing values of 'tmdb_popularity' with median\n",
        "tmdb_popularity_median = df['tmdb_popularity'].median()\n",
        "df.fillna({\"tmdb_popularity\":tmdb_popularity_median},inplace=True)"
      ],
      "metadata": {
        "id": "zCR0K9bxaxBC"
      },
      "execution_count": null,
      "outputs": []
    },
    {
      "cell_type": "code",
      "source": [
        "# Check the skewness of 'tmdb_score' to determine the best imputation method\n",
        "skewness = df[\"tmdb_score\"].skew() # Negative skew indicates a left-skewed distribution\n",
        "\n",
        "# fill missing values if 'tmdb_score' with median\n",
        "tmdb_score_median = df[\"tmdb_score\"].median()\n",
        "df.fillna({'tmdb_score':tmdb_score_median},inplace=True)"
      ],
      "metadata": {
        "id": "ySYfhnswc5mI"
      },
      "execution_count": null,
      "outputs": []
    },
    {
      "cell_type": "code",
      "source": [
        "# Analysing the null values\n",
        "df.isnull().sum()"
      ],
      "metadata": {
        "id": "KdzkevmkeIXq"
      },
      "execution_count": null,
      "outputs": []
    },
    {
      "cell_type": "code",
      "source": [
        "# Analysing the null values in persentage\n",
        "(df.isnull().sum()/len(df))*100"
      ],
      "metadata": {
        "id": "A0bOVSKZed-N"
      },
      "execution_count": null,
      "outputs": []
    },
    {
      "cell_type": "code",
      "source": [
        "# Renaming the production countries as countries\n",
        "df=df.rename(columns={\"production_countries\":\"countries\"})"
      ],
      "metadata": {
        "id": "M28LHvWlxU5J"
      },
      "execution_count": null,
      "outputs": []
    },
    {
      "cell_type": "code",
      "source": [
        "# Creating a new column name as movies\n",
        "df.loc[:,'movies'] = df.loc[df.loc[:,'type']=='MOVIE','title']\n"
      ],
      "metadata": {
        "id": "MJzdg293xdAH"
      },
      "execution_count": null,
      "outputs": []
    },
    {
      "cell_type": "code",
      "source": [
        "# Drop the missing values of movies\n",
        "df.dropna(subset=['movies'],inplace=True)"
      ],
      "metadata": {
        "id": "48dnyWtMyX3t"
      },
      "execution_count": null,
      "outputs": []
    },
    {
      "cell_type": "code",
      "source": [
        "# Renaming name column as actor\n",
        "df.rename(columns={\"name\":'actor'},inplace=True)"
      ],
      "metadata": {
        "id": "fMRmRTSkyvkt"
      },
      "execution_count": null,
      "outputs": []
    },
    {
      "cell_type": "code",
      "source": [
        "#check the missing values\n",
        "df.isnull().sum()"
      ],
      "metadata": {
        "id": "3urNH7a3y_vu"
      },
      "execution_count": null,
      "outputs": []
    },
    {
      "cell_type": "markdown",
      "source": [
        "Data Manipulation"
      ],
      "metadata": {
        "id": "eC7EiTRs0bYv"
      }
    },
    {
      "cell_type": "code",
      "source": [
        "# 1.Which are the top 10 countries releasing the most movies with IMDb > 7 and TMDb > 7.5\n",
        "\n",
        "# filter movies with good IMDb and TMDb scores\n",
        "good_movies = df[(df['imdb_score']>7) & (df['tmdb_score']>7.5) & (df['type']=='MOVIE')]\n",
        "\n",
        "# Clean the countries column (string to list)\n",
        "good_movies['countries']= good_movies['countries'].str.strip(\"[]\").str.replace(\"'\", \"\").str.split(\", \")\n",
        "\n",
        "\n",
        "#explode to get one country per row\n",
        "explode = good_movies.explode(\"countries\")\n",
        "\n",
        "# remove empty values\n",
        "explode = explode[explode['countries'].str.strip() !=\"\"]\n",
        "\n",
        "top_countries = (explode.groupby(\"countries\",as_index=False)[\"title\"].count().rename(columns={\"title\":\"high_rated_movies\"}).sort_values(by=\"high_rated_movies\",ascending=False).head(10))\n",
        "\n",
        "top_countries"
      ],
      "metadata": {
        "id": "9sHV8JMvzGxS"
      },
      "execution_count": null,
      "outputs": []
    },
    {
      "cell_type": "code",
      "source": [
        "# 2. Which are the top 10 most common genres on Amazon Prime, and how many titles belong to each genre?\n",
        "\n",
        "# Clean 'genres' column (string to list)\n",
        "df[\"genres\"] = df[\"genres\"].str.strip(\"[]\").str.replace(\"'\", \"\").str.split(\", \")\n",
        "\n",
        "# Explode genres into separate rows\n",
        "explode_genres = df.explode(\"genres\")\n",
        "\n",
        "# Remove empty values\n",
        "explode_genres = explode_genres[explode_genres[\"genres\"].str.strip() != \"\"]\n",
        "\n",
        "# Group by genres and count titles\n",
        "top_genres = (\n",
        "    explode_genres.groupby(\"genres\", as_index=False)\n",
        "    [\"title\"].count()\n",
        "    .rename(columns={\"title\": \"total_titles\"})\n",
        "    .sort_values(by=\"total_titles\", ascending=False)\n",
        "    .head(10)\n",
        ")\n",
        "\n",
        "top_genres\n",
        "\n"
      ],
      "metadata": {
        "id": "eNf33_qi36a8"
      },
      "execution_count": null,
      "outputs": []
    },
    {
      "cell_type": "code",
      "source": [
        "# 3. Which are the top 10 production countries contributing the most content on Amazon Prime?\n",
        "\n",
        "# Clean 'countries' column (string to list)\n",
        "df[\"countries\"] = df[\"countries\"].str.strip(\"[]\").str.replace(\"'\", \"\").str.split(\", \")\n",
        "\n",
        "# Explode countries into separate rows\n",
        "explode_countries = df.explode(\"countries\")\n",
        "\n",
        "# Remove empty values\n",
        "explode_countries = explode_countries[explode_countries[\"countries\"].str.strip() != \"\"]\n",
        "\n",
        "# Group by countries and count total titles\n",
        "top_countries_content = (\n",
        "    explode_countries.groupby(\"countries\", as_index=False)\n",
        "    [\"title\"].count()\n",
        "    .rename(columns={\"title\": \"total_titles\"})\n",
        "    .sort_values(by=\"total_titles\", ascending=False)\n",
        "    .head(10)\n",
        ")\n",
        "\n",
        "top_countries_content\n"
      ],
      "metadata": {
        "id": "Qz80CiFU4lIS"
      },
      "execution_count": null,
      "outputs": []
    },
    {
      "cell_type": "code",
      "source": [
        "# 4.  How has the number of movies and shows released each year changed over time?\n",
        "\n",
        "# Group by release year and type (Movie/Show)\n",
        "yearly_trend = (\n",
        "    df.groupby([\"release_year\", \"type\"], as_index=False)\n",
        "    [\"title\"].count()\n",
        "    .rename(columns={\"title\": \"total_titles\"})\n",
        "    .sort_values(by=\"release_year\")\n",
        ")\n",
        "\n",
        "yearly_trend"
      ],
      "metadata": {
        "id": "of0Jckbaav6p"
      },
      "execution_count": null,
      "outputs": []
    },
    {
      "cell_type": "code",
      "source": [
        "# 5. Which are the top 10 movies/shows with the highest TMDb popularity score?\n",
        "\n",
        "# Select top 10 titles with highest TMDb popularity\n",
        "# Drop duplicate titles so each movie/show appears only once\n",
        "top_popular = (\n",
        "    df.drop_duplicates(subset=\"title\")\n",
        "    [[\"title\", \"type\", \"tmdb_popularity\", \"imdb_score\", \"tmdb_score\"]]\n",
        "    .sort_values(by=\"tmdb_popularity\", ascending=False)\n",
        "    .head(10)\n",
        "    .reset_index(drop=True)\n",
        ")\n",
        "\n",
        "print(top_popular)\n"
      ],
      "metadata": {
        "id": "ESTd7V545iKG"
      },
      "execution_count": null,
      "outputs": []
    },
    {
      "cell_type": "markdown",
      "source": [
        "### What all manipulations have you done and insights you found?"
      ],
      "metadata": {
        "id": "AXfMMZOn5nSa"
      }
    },
    {
      "cell_type": "markdown",
      "source": [
        "# Created a copy of the dataset\n",
        "\n",
        "* Ensures the original data remains safe for reference.\n",
        "\n",
        "# Handled Missing Values\n",
        "\n",
        "* Dropped columns age_certification and seasons (too many missing values).\n",
        "\n",
        "* Filled character, description, and imdb_id with mode (most frequent value).\n",
        "\n",
        "* Filled numerical columns (imdb_score, imdb_votes, tmdb_popularity, tmdb_score) with median after checking skewness.\n",
        "\n",
        "* Ensured no important numeric column was left blank.\n",
        "\n",
        "# Renamed Columns for Clarity\n",
        "\n",
        "* Renamed production_countries → countries for easier reference.\n",
        "\n",
        "* Renamed name → actor for better clarity.\n",
        "\n",
        "# Created a New Column\n",
        "\n",
        "* Added a movies column that holds titles only if the content type is MOVIE.\n",
        "\n",
        "\n",
        "Made the dataset analysis-ready by standardizing string values.\n",
        "\n",
        "Analysis Summaries\n",
        "\n",
        "1️. Top 10 Countries Releasing the Most Movies with High IMDb & TMDb Scores\n",
        "\"I filtered the dataset to include only movies with IMDb > 7 and TMDb > 7.5.\n",
        "After cleaning and exploding the countries column, I grouped by countries to count unique high-rated movies.\n",
        "The results showed the United States leading, followed by India and the United Kingdom.\n",
        "This reflects the dominance of Hollywood while highlighting India’s rapid growth in global cinema.\"\n",
        "\n",
        "2️. Top 10 Most Common Genres\n",
        "\"I exploded the genres column to separate multiple entries per movie.\n",
        "After grouping and counting, I identified the most common genres on Amazon Prime.\n",
        "Drama and Comedy dominated the platform, with Action also having a strong presence.\n",
        "This confirms the consistent popularity of mainstream genres across streaming audiences.\"\n",
        "\n",
        "3️. Top 10 Production Countries Contributing the Most Content\n",
        "\"I cleaned and exploded the countries column, then grouped the data to count the number of titles contributed by each country.\n",
        "The United States emerged as the largest contributor, followed by India and the UK.\n",
        "This demonstrates Amazon Prime’s heavy reliance on content from these countries.\"\n",
        "\n",
        "4️.  Number of Movies and Shows Released Each Year\n",
        "\"I grouped the dataset by release year and type to count how many movies and shows were added annually.\n",
        "reflecting the streaming boom era and Amazon Prime’s aggressive content expansion strategy.\"\n",
        "\n",
        "5️.  Top 10 Movies/Shows by TMDb Popularity Score\n",
        "\"I sorted the dataset by TMDb popularity after removing duplicate titles.\n",
        "The analysis revealed the most popular movies and shows on Amazon Prime.\n",
        "Titles such as  All the Old Knives and The eighth clause ranked among the highest,\n",
        "indicating the type of content that resonates most with audiences.\""
      ],
      "metadata": {
        "id": "LbyXE7I1olp8"
      }
    },
    {
      "cell_type": "markdown",
      "source": [
        "## ***4. Data Vizualization, Storytelling & Experimenting with charts : Understand the relationships between variables***"
      ],
      "metadata": {
        "id": "GF8Ens_Soomf"
      }
    },
    {
      "cell_type": "markdown",
      "source": [
        "#### Chart - 1"
      ],
      "metadata": {
        "id": "0wOQAZs5pc--"
      }
    },
    {
      "cell_type": "code",
      "source": [
        "# Chart - 1 visualization code\n",
        "\n",
        "# set up the figure size for better visualization\n",
        "plt.figure(figsize=(8,6))\n",
        "\n",
        "# Creating a histplot with KDE(kernal Density Estimate) plot\n",
        "# Flitering only MOVIE type dataset\n",
        "sns.histplot(data=df[df[\"type\"]==\"MOVIE\"],x=\"release_year\",color='blue',bins=30,kde=True)\n",
        "\n",
        "# Adding labels and titles for clarity\n",
        "plt.xlabel(\"Release Year\")\n",
        "plt.ylabel(\"Number Of Movies\")\n",
        "plt.title(\"Distribution Of Release year\")\n",
        "\n",
        "# Adding grid for better readbility of values\n",
        "plt.grid(True)\n",
        "\n",
        "# Display the plot\n",
        "plt.show()"
      ],
      "metadata": {
        "id": "7v_ESjsspbW7"
      },
      "execution_count": null,
      "outputs": []
    },
    {
      "cell_type": "markdown",
      "source": [
        "##### 1. Why did you pick the specific chart?"
      ],
      "metadata": {
        "id": "K5QZ13OEpz2H"
      }
    },
    {
      "cell_type": "markdown",
      "source": [
        "By plotting a histplot we can analyze the distribution of movies released based on different years.\n"
      ],
      "metadata": {
        "id": "XESiWehPqBRc"
      }
    },
    {
      "cell_type": "markdown",
      "source": [
        "##### 2. What is/are the insight(s) found from the chart?"
      ],
      "metadata": {
        "id": "lQ7QKXXCp7Bj"
      }
    },
    {
      "cell_type": "markdown",
      "source": [
        "From the above chart i got to know, there's significant increase in number of movies released after 1980. Also highes number of movies released are in the year from 2000 to 2020.\n"
      ],
      "metadata": {
        "id": "C_j1G7yiqdRP"
      }
    },
    {
      "cell_type": "markdown",
      "source": [
        "##### 3. Will the gained insights help creating a positive business impact?\n",
        "Are there any insights that lead to negative growth? Justify with specific reason."
      ],
      "metadata": {
        "id": "448CDAPjqfQr"
      }
    },
    {
      "cell_type": "markdown",
      "source": [
        "Yes, the insights will help create a positive business impact.\n",
        "The surge in movie releases after 1980, especially between 2000 and 2020, shows a growing demand for diverse content.\n",
        "This trend highlights the opportunity for production houses to focus more on genres and themes that resonated during this peak period.\n",
        "No negative growth is observed, as the trend reflects steady expansion rather than decline."
      ],
      "metadata": {
        "id": "3cspy4FjqxJW"
      }
    },
    {
      "cell_type": "markdown",
      "source": [
        "#### Chart - 2"
      ],
      "metadata": {
        "id": "KSlN3yHqYklG"
      }
    },
    {
      "cell_type": "code",
      "source": [
        "# Chart - 2 visualization code\n",
        "\n",
        "# Filtering the SHOW type from data\n",
        "show = data[data[\"type\"]== \"SHOW\"]\n",
        "\n",
        "# Set up the figure size for better visualization\n",
        "plt.figure(figsize=(8,6))\n",
        "\n",
        "# Creating a histplot with kde(Kernal Density Estimate) plot\n",
        "sns.histplot(data = show,x = \"release_year\",bins=30,kde=True,color=\"red\")\n",
        "\n",
        "# Adding labels and titles for better clarity\n",
        "plt.title(\"Distribution of Show over the period of time\")\n",
        "plt.xlabel(\"Release Years\",labelpad=15,fontsize=12)\n",
        "plt.ylabel(\"Total number of Shows\",labelpad=15,fontsize=12)\n",
        "\n",
        "# Adding grid for better readibility\n",
        "plt.minorticks_on()\n",
        "plt.grid(which='minor', linestyle='--', alpha=0.1, color='black')\n",
        "\n",
        "# Display the plot\n",
        "plt.show()\n"
      ],
      "metadata": {
        "id": "R4YgtaqtYklH"
      },
      "execution_count": null,
      "outputs": []
    },
    {
      "cell_type": "markdown",
      "source": [
        "##### 1. Why did you pick the specific chart?"
      ],
      "metadata": {
        "id": "t6dVpIINYklI"
      }
    },
    {
      "cell_type": "markdown",
      "source": [
        "By plotting a histplot we can analyze the distribution of SHOWS released based on different years.\n"
      ],
      "metadata": {
        "id": "5aaW0BYyYklI"
      }
    },
    {
      "cell_type": "markdown",
      "source": [
        "##### 2. What is/are the insight(s) found from the chart?"
      ],
      "metadata": {
        "id": "ijmpgYnKYklI"
      }
    },
    {
      "cell_type": "markdown",
      "source": [
        "The chart shows that the number of TV shows on Amazon Prime increased significantly after the year 2000."
      ],
      "metadata": {
        "id": "PSx9atu2YklI"
      }
    },
    {
      "cell_type": "markdown",
      "source": [
        "##### 3. Will the gained insights help creating a positive business impact?\n",
        "Are there any insights that lead to negative growth? Justify with specific reason."
      ],
      "metadata": {
        "id": "-JiQyfWJYklI"
      }
    },
    {
      "cell_type": "markdown",
      "source": [
        "Yes, the insights will help create a positive business impact. The sharp increase in TV shows after 2000 highlights a strong audience demand for series, guiding production houses to invest more in long-format content. This trend indicates opportunities for higher user engagement and subscription growth. No signs of negative growth are observed, as the rise has been consistent without any major decline."
      ],
      "metadata": {
        "id": "BcBbebzrYklV"
      }
    },
    {
      "cell_type": "markdown",
      "source": [
        "#### Chart - 3"
      ],
      "metadata": {
        "id": "EM7whBJCYoAo"
      }
    },
    {
      "cell_type": "code",
      "source": [
        "# Chart - 3 visualization code\n",
        "\n",
        "# Set up Figure Size For Better Visualization\n",
        "plt.figure(figsize=(6,6))\n",
        "\n",
        "# Creating a boxplot of tmdb_score column\n",
        "sns.boxplot(x='tmdb_score',data=df)\n",
        "\n",
        "# Adding labels and title for better clarity\n",
        "plt.xlabel(\"TMDB SCORE\",labelpad=15)\n",
        "plt.title(\"Distribution Of TMDB SCORE\",pad=30)\n",
        "\n",
        "# Adding grid for better readibility\n",
        "plt.grid(True)\n",
        "\n",
        "# Display the plot\n",
        "plt.show()"
      ],
      "metadata": {
        "id": "t6GMdE67YoAp"
      },
      "execution_count": null,
      "outputs": []
    },
    {
      "cell_type": "markdown",
      "source": [
        "##### 1. Why did you pick the specific chart?"
      ],
      "metadata": {
        "id": "fge-S5ZAYoAp"
      }
    },
    {
      "cell_type": "markdown",
      "source": [
        "Box plot was chosen because it's ideal for visualizing the distribution of numerical values like tmdb_score. Also it helps us to know the median, IQR and outliers."
      ],
      "metadata": {
        "id": "5dBItgRVYoAp"
      }
    },
    {
      "cell_type": "markdown",
      "source": [
        "##### 2. What is/are the insight(s) found from the chart?"
      ],
      "metadata": {
        "id": "85gYPyotYoAp"
      }
    },
    {
      "cell_type": "markdown",
      "source": [
        "The median TMDb score is around 6, showing that most Amazon Prime titles receive moderate ratings.\n",
        "\n",
        "The interquartile range (IQR) is narrow (roughly 5.5 to 7), meaning most content scores are clustered in the mid-range.\n",
        "\n",
        "Several outliers exist on both low (below 3) and high (above 9) ends, indicating a few poorly received and a few exceptionally successful titles.\n",
        "\n",
        "Overall, Amazon Prime content tends to hover around average ratings, with only a small share of titles standing out as highly rated."
      ],
      "metadata": {
        "id": "4jstXR6OYoAp"
      }
    },
    {
      "cell_type": "markdown",
      "source": [
        "##### 3. Will the gained insights help creating a positive business impact?\n",
        "Are there any insights that lead to negative growth? Justify with specific reason."
      ],
      "metadata": {
        "id": "RoGjAbkUYoAp"
      }
    },
    {
      "cell_type": "markdown",
      "source": [
        "Yes, the insights can help create a positive business impact. Since most titles cluster around a TMDb score of 5.5–7, production houses can focus on identifying factors that push content into the higher-rated category (above 8). The presence of outliers on the lower side indicates some content is underperforming, which could negatively impact viewer satisfaction and subscriptions. Addressing the quality gaps behind these low-rated titles can help reduce negative growth and improve overall audience engagement."
      ],
      "metadata": {
        "id": "zfJ8IqMcYoAp"
      }
    },
    {
      "cell_type": "markdown",
      "source": [
        "#### Chart - 4"
      ],
      "metadata": {
        "id": "4Of9eVA-YrdM"
      }
    },
    {
      "cell_type": "code",
      "source": [
        "# Chart - 4 visualization code\n",
        "# Set up figure size for better visualization\n",
        "plt.figure(figsize=(6,6))\n",
        "\n",
        "# Creating a boxplot of imdb_score column\n",
        "sns.boxplot(x='imdb_score', data=df)\n",
        "\n",
        "# Adding labels and title for better clarity\n",
        "plt.xlabel(\"IMDB SCORE\",labelpad=15)\n",
        "plt.title(\"Distribution Of IMDB SCORE\",pad=30)\n",
        "\n",
        "# Adding grid for better readibility\n",
        "plt.grid(True)\n",
        "\n",
        "# Display the plot\n",
        "plt.show()\n"
      ],
      "metadata": {
        "id": "irlUoxc8YrdO"
      },
      "execution_count": null,
      "outputs": []
    },
    {
      "cell_type": "markdown",
      "source": [
        "##### 1. Why did you pick the specific chart?"
      ],
      "metadata": {
        "id": "iky9q4vBYrdO"
      }
    },
    {
      "cell_type": "markdown",
      "source": [
        "Box plot was chosen because it's ideal for visualizing the distribution of numerical values like imdb_score. Also it helps us to know the median, IQR and outliers."
      ],
      "metadata": {
        "id": "aJRCwT6DYrdO"
      }
    },
    {
      "cell_type": "markdown",
      "source": [
        "##### 2. What is/are the insight(s) found from the chart?"
      ],
      "metadata": {
        "id": "F6T5p64dYrdO"
      }
    },
    {
      "cell_type": "markdown",
      "source": [
        "The median IMDb score is around 6, showing that most Amazon Prime titles receive moderate ratings.\n",
        "\n",
        "The interquartile range (IQR) is narrow (roughly 5.5 to 7), meaning most content scores are clustered in the mid-range.\n",
        "\n",
        "Several outliers exist on both low (below 3) and high (above 9) ends, indicating a few poorly received and a few exceptionally successful titles.\n",
        "\n",
        "Overall, Amazon Prime content tends to hover around average ratings, with only a small share of titles standing out as highly rated."
      ],
      "metadata": {
        "id": "Xx8WAJvtYrdO"
      }
    },
    {
      "cell_type": "markdown",
      "source": [
        "##### 3. Will the gained insights help creating a positive business impact?\n",
        "Are there any insights that lead to negative growth? Justify with specific reason."
      ],
      "metadata": {
        "id": "y-Ehk30pYrdP"
      }
    },
    {
      "cell_type": "markdown",
      "source": [
        "Yes, these insights will help create a positive business impact. The IMDb score distribution shows most titles perform in the average range, while only a few stand out with high ratings. By analyzing what makes those highly rated titles successful, production houses can replicate similar strategies. However, the presence of low-rated outliers signals potential risks of negative growth if quality issues are not addressed."
      ],
      "metadata": {
        "id": "jLNxxz7MYrdP"
      }
    },
    {
      "cell_type": "markdown",
      "source": [
        "#### Chart - 5"
      ],
      "metadata": {
        "id": "bamQiAODYuh1"
      }
    },
    {
      "cell_type": "code",
      "source": [
        "# Chart - 5 visualization code\n",
        "# Set up the figure size for better visualization\n",
        "plt.figure(figsize=(6,6))\n",
        "\n",
        "# Creating a countplot for Distribution of content type\n",
        "sns.countplot(x='type', data=data,color=\"yellow\",hue=\"type\",palette =[\"orange\",\"blue\"],legend=True)\n",
        "\n",
        "# Adding labels and titles for better clarity\n",
        "plt.xlabel(\"Type\")\n",
        "plt.ylabel(\"Count of movies\")\n",
        "plt.title(\"Distribution of content type  : Movies vs Shows\",pad=30)\n",
        "\n",
        "# Adding grid for better readibility\n",
        "plt.grid(axis='y')\n",
        "\n",
        "# Display the plot\n",
        "plt.show()\n"
      ],
      "metadata": {
        "id": "TIJwrbroYuh3"
      },
      "execution_count": null,
      "outputs": []
    },
    {
      "cell_type": "markdown",
      "source": [
        "##### 1. Why did you pick the specific chart?"
      ],
      "metadata": {
        "id": "QHF8YVU7Yuh3"
      }
    },
    {
      "cell_type": "markdown",
      "source": [
        "A count plot is used to show the frequency of categorical data, making it easy to compare categories like Movies vs Shows. It quickly highlights imbalances, helping identify which type dominates on Amazon Prime."
      ],
      "metadata": {
        "id": "dcxuIMRPYuh3"
      }
    },
    {
      "cell_type": "markdown",
      "source": [
        "##### 2. What is/are the insight(s) found from the chart?"
      ],
      "metadata": {
        "id": "GwzvFGzlYuh3"
      }
    },
    {
      "cell_type": "markdown",
      "source": [
        "The chart shows that Amazon Prime hosts a significantly higher number of Movies compared to TV Shows. This indicates the platform’s focus on expanding its movie library, while shows form a much smaller portion of the content."
      ],
      "metadata": {
        "id": "uyqkiB8YYuh3"
      }
    },
    {
      "cell_type": "markdown",
      "source": [
        "##### 3. Will the gained insights help creating a positive business impact?\n",
        "Are there any insights that lead to negative growth? Justify with specific reason."
      ],
      "metadata": {
        "id": "qYpmQ266Yuh3"
      }
    },
    {
      "cell_type": "markdown",
      "source": [
        "Yes, the insights can create a positive business impact as they show Amazon Prime’s strong movie library, which attracts a wide range of audiences. However, the lower number of TV shows may lead to negative growth, since many subscribers now prefer binge-worthy series, and limited shows could reduce long-term engagement"
      ],
      "metadata": {
        "id": "_WtzZ_hCYuh4"
      }
    },
    {
      "cell_type": "markdown",
      "source": [
        "#### Chart - 6"
      ],
      "metadata": {
        "id": "OH-pJp9IphqM"
      }
    },
    {
      "cell_type": "code",
      "source": [
        "\n",
        "# Chart visualization code\n",
        "# Convert to string and handle NaN\n",
        "df_genres = df['genres'].dropna().astype(str).str.split(',').explode().str.strip()\n",
        "\n",
        "# Count genres\n",
        "genre_counts = df_genres.value_counts().head(10)  # Top 10 genres\n",
        "\n",
        "# Pie Chart\n",
        "plt.figure(figsize=(8,8))\n",
        "plt.pie(genre_counts,\n",
        "        labels=genre_counts.index,\n",
        "        autopct='%1.1f%%',\n",
        "        startangle=140,\n",
        "        colors=plt.cm.Set3.colors)\n",
        "\n",
        "plt.title(\"Top 10 Genres Distribution\", fontsize=16)\n",
        "plt.show()\n"
      ],
      "metadata": {
        "id": "kuRf4wtuphqN"
      },
      "execution_count": null,
      "outputs": []
    },
    {
      "cell_type": "markdown",
      "source": [
        "##### 1. Why did you pick the specific chart?"
      ],
      "metadata": {
        "id": "bbFf2-_FphqN"
      }
    },
    {
      "cell_type": "markdown",
      "source": [
        "I picked a pie chart because the genres column is categorical, and a pie chart clearly shows the proportion of each genre. It helps to quickly compare which genres dominate and gives an easy visual understanding of their distribution"
      ],
      "metadata": {
        "id": "loh7H2nzphqN"
      }
    },
    {
      "cell_type": "markdown",
      "source": [
        "##### 2. What is/are the insight(s) found from the chart?"
      ],
      "metadata": {
        "id": "_ouA3fa0phqN"
      }
    },
    {
      "cell_type": "markdown",
      "source": [
        "The pie chart illustrates the distribution of the top 10 movie genres, with 'drama' being the most prevalent genre, accounting for 18.0% of the distribution. 'Comedy' appears multiple times, indicating its significant presence across different categories, while 'action' and 'thriller' also represent substantial portions of the genre distribution. This visualization provides a clear overview of the relative popularity and representation of various movie genres within the top 10."
      ],
      "metadata": {
        "id": "VECbqPI7phqN"
      }
    },
    {
      "cell_type": "markdown",
      "source": [
        "##### 3. Will the gained insights help creating a positive business impact?\n",
        "Are there any insights that lead to negative growth? Justify with specific reason."
      ],
      "metadata": {
        "id": "Seke61FWphqN"
      }
    },
    {
      "cell_type": "markdown",
      "source": [
        "The insights can drive positive business impact by guiding content strategy, marketing, and audience targeting toward popular genres like drama, comedy, action, and thriller, boosting engagement and revenue. However, there are risks of negative growth if the platform over-relies on these top genres, leading to audience fatigue, lack of variety, and missed opportunities in underrepresented genres with growth potential. Balancing popular and niche genres is key to sustainable growth."
      ],
      "metadata": {
        "id": "DW4_bGpfphqN"
      }
    },
    {
      "cell_type": "markdown",
      "source": [
        "#### Chart - 7"
      ],
      "metadata": {
        "id": "PIIx-8_IphqN"
      }
    },
    {
      "cell_type": "code",
      "source": [
        "# Chart - 7 visualization code\n",
        "\n",
        "# Set up figure size for better visualization\n",
        "plt.figure(figsize=(6,6))\n",
        "\n",
        "# Creating a violin plot to check the distribution of runtime\n",
        "sns.violinplot(data=df,x=\"runtime\")\n",
        "\n",
        "# Adding label and title for better clarity\n",
        "plt.xlabel(\"Runtime\")\n",
        "plt.title(\"Distribution of Runtime\",pad=20)\n",
        "\n",
        "# Adding grid for better readibility\n",
        "plt.grid(True)\n",
        "\n",
        "# Display the plot\n",
        "plt.show()\n",
        "\n"
      ],
      "metadata": {
        "id": "lqAIGUfyphqO"
      },
      "execution_count": null,
      "outputs": []
    },
    {
      "cell_type": "markdown",
      "source": [
        "##### 1. Why did you pick the specific chart?"
      ],
      "metadata": {
        "id": "t27r6nlMphqO"
      }
    },
    {
      "cell_type": "markdown",
      "source": [
        "The violin plot was chosen because it shows both the spread (median, IQR, outliers) and the density of runtimes, making it clearer where values are most concentrated"
      ],
      "metadata": {
        "id": "iv6ro40sphqO"
      }
    },
    {
      "cell_type": "markdown",
      "source": [
        "##### 2. What is/are the insight(s) found from the chart?"
      ],
      "metadata": {
        "id": "r2jJGEOYphqO"
      }
    },
    {
      "cell_type": "markdown",
      "source": [
        "The chart shows that most content has a runtime clustered between 80–120 minutes, indicating this is the typical length range for movies/shows."
      ],
      "metadata": {
        "id": "Po6ZPi4hphqO"
      }
    },
    {
      "cell_type": "markdown",
      "source": [
        "##### 3. Will the gained insights help creating a positive business impact?\n",
        "Are there any insights that lead to negative growth? Justify with specific reason."
      ],
      "metadata": {
        "id": "b0JNsNcRphqO"
      }
    },
    {
      "cell_type": "markdown",
      "source": [
        "Yes, the gained insight can create a positive business impact. Knowing that most content has a runtime of 80–120 minutes helps Amazon Prime align with audience viewing preferences and optimize future content acquisition or production strategies.\n",
        "\n",
        "No negative growth is indicated from this insight, since it reflects the current market trend. However, relying only on this range without experimenting with shorter or longer formats could limit audience diversity, so balance is important."
      ],
      "metadata": {
        "id": "xvSq8iUTphqO"
      }
    },
    {
      "cell_type": "markdown",
      "source": [
        "#### Chart - 8"
      ],
      "metadata": {
        "id": "BZR9WyysphqO"
      }
    },
    {
      "cell_type": "code",
      "source": [
        "# Chart - 8 visualization code\n",
        "\n",
        " # Set up the figure size\n",
        "plt.figure(figsize=(8,6))\n",
        "\n",
        "# Scatter plot: IMDb Score vs TMDb Score\n",
        "sns.scatterplot(x=\"imdb_score\", y=\"tmdb_score\", hue=\"type\", data=df, palette=\"Set1\", alpha=0.7)\n",
        "\n",
        "# Adding labels and title for clarity\n",
        "plt.xlabel(\"IMDb Score\")\n",
        "plt.ylabel(\"TMDb Score\")\n",
        "plt.title(\"Relationship between IMDb Score and TMDb Score\", fontsize=14, pad=20)\n",
        "\n",
        "# Adding grid for readability\n",
        "plt.grid(True, linestyle=\"--\", alpha=0.6)\n",
        "\n",
        "# Show the plot\n",
        "plt.show()"
      ],
      "metadata": {
        "id": "TdPTWpAVphqO"
      },
      "execution_count": null,
      "outputs": []
    },
    {
      "cell_type": "markdown",
      "source": [
        "##### 1. Why did you pick the specific chart?"
      ],
      "metadata": {
        "id": "jj7wYXLtphqO"
      }
    },
    {
      "cell_type": "markdown",
      "source": [
        "A scatter plot is chosen to visualize the relationship between IMDb and TMDb scores, showing whether higher IMDb scores correspond to higher TMDb scores. It also highlights patterns, clusters, and outliers in the ratings effectively."
      ],
      "metadata": {
        "id": "Ob8u6rCTphqO"
      }
    },
    {
      "cell_type": "markdown",
      "source": [
        "##### 2. What is/are the insight(s) found from the chart?"
      ],
      "metadata": {
        "id": "eZrbJ2SmphqO"
      }
    },
    {
      "cell_type": "markdown",
      "source": [
        "The scatter plot shows that IMDb and TMDb scores are generally positively correlated, meaning movies rated highly on IMDb tend to have high TMDb scores as well. However, the spread of dots indicates some variability, suggesting that the two platforms don’t always agree on individual movie ratings."
      ],
      "metadata": {
        "id": "mZtgC_hjphqO"
      }
    },
    {
      "cell_type": "markdown",
      "source": [
        "##### 3. Will the gained insights help creating a positive business impact?\n",
        "Are there any insights that lead to negative growth? Justify with specific reason."
      ],
      "metadata": {
        "id": "rFu4xreNphqO"
      }
    },
    {
      "cell_type": "markdown",
      "source": [
        "Positive business impact: The insight that IMDb and TMDb scores are generally correlated can help platforms recommend popular movies confidently, optimize content acquisition, and predict audience preferences, improving engagement and revenue.\n",
        "\n",
        "Potential negative growth: The variability in scores indicates inconsistent ratings for some movies, which could lead to poor recommendations if relied on solely, potentially decreasing user satisfaction and trust.\n",
        "\n",
        "Justification: For example, a movie highly rated on IMDb but low on TMDb might not appeal to all audiences, so ignoring this discrepancy could hurt viewer retention"
      ],
      "metadata": {
        "id": "ey_0qi68phqO"
      }
    },
    {
      "cell_type": "markdown",
      "source": [
        "#### Chart - 9"
      ],
      "metadata": {
        "id": "YJ55k-q6phqO"
      }
    },
    {
      "cell_type": "code",
      "source": [
        "# Chart - 9 visualization code\n",
        "# Set up figure size for better visualization\n",
        "plt.figure(figsize = (6,5))\n",
        "\n",
        "# Plotting a scatterplot to visually analyze the distribution of Runtime and TMDB Popularity\n",
        "sns.scatterplot(data = df, x=  f'runtime', y ='tmdb_popularity')\n",
        "\n",
        "# Adding title and labels for better clarity\n",
        "plt.title(\"Runtime vs TMDB Popularity\",pad = 10, bbox = dict(facecolor = 'White', edgecolor = 'black'))\n",
        "plt.xlabel(\"Runtime\",labelpad = 15,fontsize = 12,bbox = dict(facecolor = 'lightyellow', edgecolor = 'black'))\n",
        "plt.ylabel(\"TMDB Popularity\",labelpad = 15,fontsize = 12,bbox = dict(facecolor = 'lightyellow', edgecolor = 'black'))\n",
        "\n",
        "# Display the plot\n",
        "plt.show()"
      ],
      "metadata": {
        "id": "B2aS4O1ophqO"
      },
      "execution_count": null,
      "outputs": []
    },
    {
      "cell_type": "markdown",
      "source": [
        "##### 1. Why did you pick the specific chart?"
      ],
      "metadata": {
        "id": "gCFgpxoyphqP"
      }
    },
    {
      "cell_type": "markdown",
      "source": [
        "It helps to visually analyze the correlation between two numerical columns (Runtime,TMDB Popularity)."
      ],
      "metadata": {
        "id": "TVxDimi2phqP"
      }
    },
    {
      "cell_type": "markdown",
      "source": [
        "##### 2. What is/are the insight(s) found from the chart?"
      ],
      "metadata": {
        "id": "OVtJsKN_phqQ"
      }
    },
    {
      "cell_type": "markdown",
      "source": [
        "\n",
        "Content with runtime between 90-120 are the performing well in terms of popularity metrics."
      ],
      "metadata": {
        "id": "ngGi97qjphqQ"
      }
    },
    {
      "cell_type": "markdown",
      "source": [
        "##### 3. Will the gained insights help creating a positive business impact?\n",
        "Are there any insights that lead to negative growth? Justify with specific reason."
      ],
      "metadata": {
        "id": "lssrdh5qphqQ"
      }
    },
    {
      "cell_type": "markdown",
      "source": [
        "The insight that movies with runtime between 90–120 minutes perform well in popularity metrics can help platforms and studios optimize content production. They can prioritize producing or acquiring movies within this runtime range to maximize audience engagement, improve viewer retention, and increase revenue from popular content"
      ],
      "metadata": {
        "id": "tBpY5ekJphqQ"
      }
    },
    {
      "cell_type": "markdown",
      "source": [
        "#### Chart - 10"
      ],
      "metadata": {
        "id": "U2RJ9gkRphqQ"
      }
    },
    {
      "cell_type": "code",
      "source": [
        "# Chart - 10 visualization code\n",
        "# Group by release year to calculate average IMDb score\n",
        "avg_imdb_per_year = df.groupby('release_year')['imdb_score'].mean().reset_index()\n",
        "\n",
        "# Plot line chart\n",
        "plt.figure(figsize=(12,6))\n",
        "plt.plot(avg_imdb_per_year['release_year'], avg_imdb_per_year['imdb_score'], marker='o', color='blue')\n",
        "plt.title('Average IMDb Score Trend Over Years')\n",
        "plt.xlabel('Release Year')\n",
        "plt.ylabel('Average IMDb Score')\n",
        "plt.grid(True)\n",
        "plt.show()"
      ],
      "metadata": {
        "id": "GM7a4YP4phqQ"
      },
      "execution_count": null,
      "outputs": []
    },
    {
      "cell_type": "markdown",
      "source": [
        "##### 1. Why did you pick the specific chart?"
      ],
      "metadata": {
        "id": "1M8mcRywphqQ"
      }
    },
    {
      "cell_type": "markdown",
      "source": [
        "A line chart is ideal for visualizing trends over time, such as average IMDb scores across release years. It clearly shows how ratings change year by year, highlights upward or downward trends, and makes it easy to spot patterns or anomalies in the data."
      ],
      "metadata": {
        "id": "8agQvks0phqQ"
      }
    },
    {
      "cell_type": "markdown",
      "source": [
        "##### 2. What is/are the insight(s) found from the chart?"
      ],
      "metadata": {
        "id": "tgIPom80phqQ"
      }
    },
    {
      "cell_type": "markdown",
      "source": [
        "The line chart shows that the average IMDb score fluctuates over the years but generally remains above 5.5, indicating a consistent baseline of movie quality. There are periods of high average scores (around 6.0–7.0), suggesting years with well-received films. The chart also shows resilience, as dips in scores are often followed by recoveries, and peaks in certain years highlight periods with a concentration of critically acclaimed or popular movies."
      ],
      "metadata": {
        "id": "Qp13pnNzphqQ"
      }
    },
    {
      "cell_type": "markdown",
      "source": [
        "##### 3. Will the gained insights help creating a positive business impact?\n",
        "Are there any insights that lead to negative growth? Justify with specific reason."
      ],
      "metadata": {
        "id": "JMzcOPDDphqR"
      }
    },
    {
      "cell_type": "markdown",
      "source": [
        "The insights from the average IMDb score trend can help studios and streaming platforms plan content strategies by identifying eras or genres associated with higher-rated movies. Consistently high baseline scores indicate that investing in similar types of films is likely to attract audiences and maintain engagement. Additionally, recognizing periods of peak performance can guide marketing and acquisition decisions to focus on movies with proven audience appeal, ultimately improving revenue and brand reputation"
      ],
      "metadata": {
        "id": "R4Ka1PC2phqR"
      }
    },
    {
      "cell_type": "markdown",
      "source": [
        "#### Chart - 11"
      ],
      "metadata": {
        "id": "x-EpHcCOp1ci"
      }
    },
    {
      "cell_type": "code",
      "source": [
        "# Chart - 11 visualization code\n",
        "# Set up figure size for better visualization\n",
        "plt.figure(figsize = (6,5))\n",
        "\n",
        "# Plotting a scatterplot to visually analyze the correlation between Runtime and IMDB Votes\n",
        "sns.scatterplot(data = df, x ='runtime', y ='imdb_votes')\n",
        "\n",
        "# Adding title and labels for better clarity\n",
        "plt.title(\"Runtime vs IMDB Votes \",pad = 10,bbox = dict(facecolor = 'White', edgecolor = 'black'))\n",
        "plt.xlabel(\"Runtime\",labelpad = 15,fontsize = 12,bbox = dict(facecolor = 'lightyellow', edgecolor = 'black'))\n",
        "plt.ylabel(\"Imdb Votes (In Milion)\",labelpad = 15,bbox = dict(facecolor = 'lightyellow', edgecolor = 'black'))\n",
        "\n",
        "# Display the plot\n",
        "plt.show()\n"
      ],
      "metadata": {
        "id": "mAQTIvtqp1cj"
      },
      "execution_count": null,
      "outputs": []
    },
    {
      "cell_type": "markdown",
      "source": [
        "##### 1. Why did you pick the specific chart?"
      ],
      "metadata": {
        "id": "X_VqEhTip1ck"
      }
    },
    {
      "cell_type": "markdown",
      "source": [
        "It helps to visually analyze the correlation between two numerical columns (Runtime,TMDB Popularity)."
      ],
      "metadata": {
        "id": "-vsMzt_np1ck"
      }
    },
    {
      "cell_type": "markdown",
      "source": [
        "##### 2. What is/are the insight(s) found from the chart?"
      ],
      "metadata": {
        "id": "8zGJKyg5p1ck"
      }
    },
    {
      "cell_type": "markdown",
      "source": [
        "\n",
        "Content with runtime between 90-120 are the performing well in terms of popularity metrics."
      ],
      "metadata": {
        "id": "ZYdMsrqVp1ck"
      }
    },
    {
      "cell_type": "markdown",
      "source": [
        "##### 3. Will the gained insights help creating a positive business impact?\n",
        "Are there any insights that lead to negative growth? Justify with specific reason."
      ],
      "metadata": {
        "id": "PVzmfK_Ep1ck"
      }
    },
    {
      "cell_type": "markdown",
      "source": [
        "\n",
        "Businesses must invest on content whose runtime is between 90-120 as Movies/shows with such runtime are the one who is getting popular"
      ],
      "metadata": {
        "id": "druuKYZpp1ck"
      }
    },
    {
      "cell_type": "markdown",
      "source": [
        "#### Chart - 12"
      ],
      "metadata": {
        "id": "n3dbpmDWp1ck"
      }
    },
    {
      "cell_type": "code",
      "source": [
        "# Chart - 12 visualization code\n",
        "# Group by release_year to calculate average runtime\n",
        "avg_runtime_per_year = df.groupby('release_year')['runtime'].mean().reset_index()\n",
        "\n",
        "# Plot line chart\n",
        "plt.figure(figsize=(14,7))\n",
        "sns.lineplot(x='release_year', y='runtime', data=avg_runtime_per_year, marker='o', color='green')\n",
        "plt.title('Average Movie Runtime Over Years')\n",
        "plt.xlabel('Release Year')\n",
        "plt.ylabel('Average Runtime (minutes)')\n",
        "plt.grid(True)\n",
        "plt.show()"
      ],
      "metadata": {
        "id": "SCBGUKTeFLUc"
      },
      "execution_count": null,
      "outputs": []
    },
    {
      "cell_type": "markdown",
      "source": [
        "##### 1. Why did you pick the specific chart?"
      ],
      "metadata": {
        "id": "ylSl6qgtp1ck"
      }
    },
    {
      "cell_type": "markdown",
      "source": [
        "A line chart was chosen because it effectively shows trends over time.  "
      ],
      "metadata": {
        "id": "m2xqNkiQp1ck"
      }
    },
    {
      "cell_type": "markdown",
      "source": [
        "##### 2. What is/are the insight(s) found from the chart?"
      ],
      "metadata": {
        "id": "ZWILFDl5p1ck"
      }
    },
    {
      "cell_type": "markdown",
      "source": [
        "The line chart shows that from 1960 to 2020, most movies maintained an average runtime between 80–120 minutes, reflecting a standard preferred length. There are minor fluctuations year-to-year, but overall runtimes remained consistent. In recent decades, average runtimes trend toward the upper bound (~120 minutes), suggesting modern films are slightly longer due to more complex storytelling."
      ],
      "metadata": {
        "id": "x-lUsV2mp1ck"
      }
    },
    {
      "cell_type": "markdown",
      "source": [
        "##### 3. Will the gained insights help creating a positive business impact?\n",
        "Are there any insights that lead to negative growth? Justify with specific reason."
      ],
      "metadata": {
        "id": "M7G43BXep1ck"
      }
    },
    {
      "cell_type": "markdown",
      "source": [
        "Yes, these insights can create a positive business impact. Understanding that audiences prefer movies within 80–120 minutes helps producers and studios optimize movie length for better engagement and satisfaction. The trend toward slightly longer modern films indicates opportunities to invest in high-quality, engaging content without exceeding viewers’ attention spans, improving both box office performance and streaming retention."
      ],
      "metadata": {
        "id": "5wwDJXsLp1cl"
      }
    },
    {
      "cell_type": "markdown",
      "source": [
        "#### Chart - 13"
      ],
      "metadata": {
        "id": "Ag9LCva-p1cl"
      }
    },
    {
      "cell_type": "code",
      "source": [
        "# Filter: High scoring movies (IMDB > 7, TMDB > 7.5, Movie type, Released after 2010)\n",
        "score_high= df[(df[\"imdb_score\"]>7)&(df[\"tmdb_score\"]>7.5)&(df[\"type\"]==\"MOVIE\")&(df[\"release_year\"]>=2010)].drop_duplicates(subset=\"title\")\n",
        "high_ = score_high.sort_values(by = [\"imdb_score\",\"tmdb_score\"],ascending = [False,False]).head(10)\n",
        "\n",
        "# Using melt() to combine IMDB & TMDB Score\n",
        "actor_by_score = high_.melt(id_vars = \"actor\",value_vars = [\"imdb_score\",\"tmdb_score\"],var_name = \"score_type\",value_name = \"score\")\n",
        "\n",
        "\n",
        "# Set up figure size for better visualization\n",
        "plt.figure(figsize = (8,8))\n",
        "\n",
        "# Creating a barplot to visually analyze the top 10 actor based on IMDB & TMDB Score\n",
        "sns.barplot(data = actor_by_score,x = \"actor\",y = \"score\", hue = \"score_type\",palette = {\"blue\",\"orange\"})\n",
        "\n",
        "# Adding title and labels for better clarity\n",
        "plt.title(\"Top 10 actor by IMDB & TMDB Score (POST-2000)\",pad=15,fontsize=15, bbox = dict(facecolor = 'White', edgecolor = 'black'))\n",
        "plt.xlabel(\"Actors\",labelpad = 10,fontsize = 14)\n",
        "plt.ylabel(\"Score\",labelpad = 10,fontsize = 14)\n",
        "plt.xticks(rotation = 90)\n",
        "\n",
        "# Display the plot\n",
        "plt.show()\n",
        "\n"
      ],
      "metadata": {
        "id": "EUfxeq9-p1cl"
      },
      "execution_count": null,
      "outputs": []
    },
    {
      "cell_type": "markdown",
      "source": [
        "##### 1. Why did you pick the specific chart?"
      ],
      "metadata": {
        "id": "E6MkPsBcp1cl"
      }
    },
    {
      "cell_type": "markdown",
      "source": [
        "A barplot is ideal for comparing numerical values across categories, such as IMDb vs TMDb scores for the top 10 actors. It clearly shows differences in scores between actors, making it easy to identify who performs better on each platform."
      ],
      "metadata": {
        "id": "V22bRsFWp1cl"
      }
    },
    {
      "cell_type": "markdown",
      "source": [
        "##### 2. What is/are the insight(s) found from the chart?"
      ],
      "metadata": {
        "id": "2cELzS2fp1cl"
      }
    },
    {
      "cell_type": "markdown",
      "source": [
        "The bar chart highlights differences between IMDb and TMDb scores among the Top 10 actors post-2000. Chinmay Mandlekar has the highest IMDb score, while Alexander Babu leads in TMDb score. Most actors have higher IMDb than TMDb scores, though some (like Alexander Babu and Malhar Thakar) show the opposite trend. Overall, scores range from ~7.5 to just under 10, indicating all these actors consistently deliver strong performances, with notable discrepancies between the two rating platforms for certain actors."
      ],
      "metadata": {
        "id": "ozQPc2_Ip1cl"
      }
    },
    {
      "cell_type": "markdown",
      "source": [
        "##### 3. Will the gained insights help creating a positive business impact?\n",
        "Are there any insights that lead to negative growth? Justify with specific reason."
      ],
      "metadata": {
        "id": "3MPXvC8up1cl"
      }
    },
    {
      "cell_type": "markdown",
      "source": [
        "Yes , Production house must focus on appointing actors like Chinmey Mandlekar, Suriya as they are the one who got the highes score on IMDB as well as TMDB."
      ],
      "metadata": {
        "id": "GL8l1tdLp1cl"
      }
    },
    {
      "cell_type": "markdown",
      "source": [
        "#### Chart - 14 - Correlation Heatmap"
      ],
      "metadata": {
        "id": "NC_X3p0fY2L0"
      }
    },
    {
      "cell_type": "code",
      "source": [
        "# Correlation Heatmap visualization code\n",
        "\n",
        "# Filtering numerical data\n",
        "num_data = df.select_dtypes(include=[\"int64\",\"float64\"])\n",
        "correl = num_data.corr()\n",
        "\n",
        "# Set up figure size for better visualization\n",
        "plt.figure(figsize = (8,6))\n",
        "\n",
        "# Plot heatmap\n",
        "sns.heatmap(correl,annot = True,cmap = \"rainbow\")\n",
        "plt.tight_layout()\n",
        "\n",
        "# Display the heatmap\n",
        "plt.show()\n"
      ],
      "metadata": {
        "id": "xyC9zolEZNRQ"
      },
      "execution_count": null,
      "outputs": []
    },
    {
      "cell_type": "markdown",
      "source": [
        "##### 1. Why did you pick the specific chart?"
      ],
      "metadata": {
        "id": "UV0SzAkaZNRQ"
      }
    },
    {
      "cell_type": "markdown",
      "source": [
        "The heatmap was chosen as it clearly visualizes correlations between numerical variables, making patterns and relationships easy to interpret at a glance"
      ],
      "metadata": {
        "id": "DVPuT8LYZNRQ"
      }
    },
    {
      "cell_type": "markdown",
      "source": [
        "##### 2. What is/are the insight(s) found from the chart?"
      ],
      "metadata": {
        "id": "YPEH6qLeZNRQ"
      }
    },
    {
      "cell_type": "markdown",
      "source": [
        "1. IMDb Score vs TMDB Score → Strong positive correlation (0.59)  \n",
        "    → Both rating platforms generally agree on content quality.  \n",
        "\n",
        " 2. Release Year vs Runtime → Moderate positive correlation (0.29)  \n",
        "    → Newer releases tend to have slightly longer runtimes.  \n",
        "\n",
        " 3. Runtime vs IMDb Score → Moderate positive correlation (0.26)  \n",
        "    → Longer movies/shows are often rated higher.  \n",
        "\n",
        "4. IMDb Votes vs IMDb Score → Mild positive correlation (0.28)  \n",
        "   → Higher-rated titles usually attract more votes."
      ],
      "metadata": {
        "id": "bfSqtnDqZNRR"
      }
    },
    {
      "cell_type": "markdown",
      "source": [
        "#### Chart - 15 - Pair Plot"
      ],
      "metadata": {
        "id": "q29F0dvdveiT"
      }
    },
    {
      "cell_type": "code",
      "source": [
        "# Pair Plot visualization code\n",
        "# Creating pairplot\n",
        "sns.pairplot(df)\n",
        "\n",
        "# Display the plot\n",
        "plt.show()"
      ],
      "metadata": {
        "id": "o58-TEIhveiU"
      },
      "execution_count": null,
      "outputs": []
    },
    {
      "cell_type": "markdown",
      "source": [
        "##### 1. Why did you pick the specific chart?"
      ],
      "metadata": {
        "id": "EXh0U9oCveiU"
      }
    },
    {
      "cell_type": "markdown",
      "source": [
        "I chose the pairplot because it shows both the distribution of each variable and the relationships between pairs of variables, making it easier to detect patterns, correlations, or clusters in the dataset"
      ],
      "metadata": {
        "id": "eMmPjTByveiU"
      }
    },
    {
      "cell_type": "markdown",
      "source": [
        "##### 2. What is/are the insight(s) found from the chart?"
      ],
      "metadata": {
        "id": "22aHeOlLveiV"
      }
    },
    {
      "cell_type": "markdown",
      "source": [
        "* IMDb vs TMDB Scores → Strong positive linear relationship, showing both platforms largely agree on ratings.\n",
        "\n",
        "* IMDb Votes vs IMDb Score → Mild positive trend; higher-rated movies generally attract more votes.\n",
        "\n",
        "* Runtime → Most films fall between 50–150 minutes, the standard content length range.\n",
        "\n",
        "* IMDb Votes vs Runtime → Weak correlation; a few longer films get more votes, likely due to big-budget or popular productions."
      ],
      "metadata": {
        "id": "uPQ8RGwHveiV"
      }
    },
    {
      "cell_type": "markdown",
      "source": [
        "## **5. Solution to Business Objective**"
      ],
      "metadata": {
        "id": "JcMwzZxoAimU"
      }
    },
    {
      "cell_type": "markdown",
      "source": [
        "#### What do you suggest the client to achieve Business Objective ?\n"
      ],
      "metadata": {
        "id": "8G2x9gOozGDZ"
      }
    },
    {
      "cell_type": "markdown",
      "source": [
        "To optimize business outcomes, films should generally be produced with runtimes between 80–120 minutes to match audience preferences, while prioritizing popular genres such as drama, comedy, action, and thriller. Casting high-performing actors like Chinmay Mandlekar and Alexander Babu can enhance both IMDb and TMDb scores. Balancing content quality and popularity ensures strong critical and audience approval, while strategic release planning based on yearly trends can maximize engagement. Focusing on genre-specific performance, targeting key markets, and adjusting content length for modern audiences further improves viewer satisfaction. Marketing campaigns should highlight runtime, genre, and lead actors, and streaming platforms can personalize recommendations based on these trends. Data-driven production decisions, budget allocation, and planning sequels or franchises using historical insights help optimize ROI. Additionally, considering demographics, international appeal, and award strategies ensures broad audience reach. Overall, implementing these strategies supports higher engagement, improved revenue, and long-term growth in the film industry"
      ],
      "metadata": {
        "id": "pASKb0qOza21"
      }
    },
    {
      "cell_type": "markdown",
      "source": [
        "# **Conclusion**"
      ],
      "metadata": {
        "id": "gCX9965dhzqZ"
      }
    },
    {
      "cell_type": "markdown",
      "source": [
        "* High-Quality Movies: Films with strong content, good direction, and production quality tend to receive higher IMDb and TMDb scores.\n",
        "\n",
        "* Popular Genres: Drama, comedy, action, and thriller dominate the market and attract larger audiences.\n",
        "\n",
        "* Bigger Audience Base: Movies with standard runtimes (80–120 minutes) maintain higher engagement and satisfaction.\n",
        "\n",
        "* Top-Producing Countries: Countries producing the most films have established infrastructure and audiences, making them key markets.\n",
        "\n",
        "* Shows Growing in Demand: Certain genres and content types are increasingly popular on streaming platforms, reflecting changing viewer preferences.\n",
        "\n",
        "* Actors Matter: High-performing actors like Chinmay Mandlekar and Alexander Babu significantly influence ratings and popularity.\n",
        "\n",
        "* Trends Over Time: Average runtimes and IMDb/TMDb scores show fluctuations, but recent decades indicate a shift toward longer, well-received films.\n",
        "\n",
        "* Data-Driven Decisions: Insights from genres, actors, runtimes, and popularity help in planning production, marketing, and distribution.\n",
        "\n",
        "* Content Personalization: Streaming platforms can recommend content based on audience preferences, runtime, and genre trends.\n",
        "\n",
        "* Business Impact: Leveraging these factors ensures higher engagement, better revenue, and sustained growth in the film and streaming industry."
      ],
      "metadata": {
        "id": "Fjb1IsQkh3yE"
      }
    },
    {
      "cell_type": "markdown",
      "source": [
        "### ***Hurrah! You have successfully completed your EDA Capstone Project !!!***"
      ],
      "metadata": {
        "id": "gIfDvo9L0UH2"
      }
    }
  ]
}